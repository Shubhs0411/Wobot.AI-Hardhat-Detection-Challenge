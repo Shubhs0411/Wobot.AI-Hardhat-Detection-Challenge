{
 "cells": [
  {
   "cell_type": "code",
   "execution_count": null,
   "metadata": {},
   "outputs": [],
   "source": [
    "import glob\n",
    "import os\n",
    "import pickle\n",
    "import xml.etree.ElementTree as ET\n",
    "from os import listdir, getcwd\n",
    "from os.path import join\n",
    "\n",
    "dirs = ['annotations']\n",
    "classes = ['helmet', 'head']\n",
    "\n",
    "def getImagesInDir(dir_path):\n",
    "    image_list = []\n",
    "    for filename in glob.glob(dir_path + '/*.xml'):\n",
    "        image_list.append(filename)\n",
    "\n",
    "    return image_list\n",
    "\n",
    "def convert(size, box):\n",
    "    dw = 1./(size[0])\n",
    "    dh = 1./(size[1])\n",
    "    x = (box[0] + box[1])/2.0 - 1\n",
    "    y = (box[2] + box[3])/2.0 - 1\n",
    "    w = box[1] - box[0]\n",
    "    h = box[3] - box[2]\n",
    "    x = x*dw\n",
    "    w = w*dw\n",
    "    y = y*dh\n",
    "    h = h*dh\n",
    "    return (x,y,w,h)\n",
    "\n",
    "def convert_annotation(dir_path, output_path, image_path):\n",
    "    basename = os.path.basename(image_path)\n",
    "    basename_no_ext = os.path.splitext(basename)[0]\n",
    "\n",
    "    in_file = open(dir_path + '/' + basename_no_ext + '.xml')\n",
    "    out_file = open(output_path + basename_no_ext + '.txt', 'w')\n",
    "    tree = ET.parse(in_file)\n",
    "    root = tree.getroot()\n",
    "    size = root.find('size')\n",
    "    w = int(size.find('width').text)\n",
    "    h = int(size.find('height').text)\n",
    "\n",
    "    for obj in root.iter('object'):\n",
    "        difficult = obj.find('difficult').text\n",
    "        cls = obj.find('name').text\n",
    "        if cls not in classes or int(difficult)==1:\n",
    "            continue\n",
    "        cls_id = classes.index(cls)\n",
    "        xmlbox = obj.find('bndbox')\n",
    "        b = (float(xmlbox.find('xmin').text), float(xmlbox.find('xmax').text), float(xmlbox.find('ymin').text), float(xmlbox.find('ymax').text))\n",
    "        bb = convert((w,h), b)\n",
    "        out_file.write(str(cls_id) + \" \" + \" \".join([str(a) for a in bb]) + '\\n')\n",
    "\n",
    "cwd = getcwd()\n",
    "\n",
    "for dir_path in dirs:\n",
    "    full_dir_path = r\"C:\\Users\\admin\\Desktop\\annotations\"\n",
    "    output_path = full_dir_path +'/yolo/'\n",
    "\n",
    "    if not os.path.exists(output_path):\n",
    "        os.makedirs(output_path)\n",
    "\n",
    "    image_paths = getImagesInDir(full_dir_path)\n",
    "    list_file = open(full_dir_path + '.txt', 'w')\n",
    "\n",
    "    for image_path in image_paths:\n",
    "        list_file.write(image_path + '\\n')\n",
    "        convert_annotation(full_dir_path, output_path, image_path)\n",
    "    list_file.close()\n",
    "\n",
    "    print(\"Finished processing: \" + dir_path)"
   ]
  },
  {
   "cell_type": "code",
   "execution_count": null,
   "metadata": {},
   "outputs": [],
   "source": []
  },
  {
   "cell_type": "code",
   "execution_count": 58,
   "metadata": {},
   "outputs": [],
   "source": [
    "import cv2 as cv\n",
    "import numpy as np\n",
    "import matplotlib.pyplot as plt\n",
    "import PIL\n",
    "%matplotlib inline\n",
    "from sklearn.cluster import KMeans\n",
    "\n",
    "img=cv.imread(r\"C:\\Users\\admin\\Desktop\\Capture.PNG\")\n",
    "img = cv.cvtColor(img, cv.COLOR_BGR2RGB)\n",
    "\n",
    "from collections import Counter\n",
    "\n",
    "def palette_perc(k_cluster):\n",
    "    width = 300\n",
    "    palette = np.zeros((50, width, 3), np.uint8)\n",
    "    \n",
    "    n_pixels = len(k_cluster.labels_)\n",
    "    counter = Counter(k_cluster.labels_) # count how many pixels per cluster\n",
    "    perc = {}\n",
    "    v=[]\n",
    "    for i in counter:\n",
    "        perc[i] = np.round(counter[i]/n_pixels, 2)\n",
    "        print(perc[i])\n",
    "        v.append(perc[i])\n",
    "    perc = dict(sorted(perc.items()))\n",
    "    v.sort()\n",
    "    print(v[2])\n",
    "    \n",
    "    #for logging purposes\n",
    "    print(perc)\n",
    "    print(k_cluster.cluster_centers_)\n",
    "    \n",
    "    step = 0\n",
    "    \n",
    "    for idx, centers in enumerate(k_cluster.cluster_centers_): \n",
    "        palette[:, step:int(step + perc[idx]*width+1), :] = centers\n",
    "        step += int(perc[idx]*width+1)\n",
    "        \n",
    "    return palette"
   ]
  },
  {
   "cell_type": "code",
   "execution_count": 59,
   "metadata": {},
   "outputs": [
    {
     "name": "stdout",
     "output_type": "stream",
     "text": [
      "0.17\n",
      "0.24\n",
      "0.59\n",
      "0.59\n",
      "{0: 0.59, 1: 0.17, 2: 0.24}\n",
      "[[ 42.95836735  23.22122449  23.24326531]\n",
      " [195.08898305 199.48163842 200.1440678 ]\n",
      " [ 66.89        80.652      106.261     ]]\n"
     ]
    },
    {
     "data": {
      "image/png": "[encoded data removed]",
      "text/plain": [
       "<Figure size 720x720 with 2 Axes>"
      ]
     },
     "metadata": {
      "needs_background": "light"
     },
     "output_type": "display_data"
    }
   ],
   "source": [
    "def show_img_compar(img_1, img_2 ):\n",
    "    f, ax = plt.subplots(1, 2, figsize=(10,10))\n",
    "    ax[0].imshow(img_1)\n",
    "    ax[1].imshow(img_2)\n",
    "    ax[0].axis('off')\n",
    "    ax[1].axis('off')\n",
    "    f.tight_layout()\n",
    "    plt.show()\n",
    "# clt_1 = clt.fit(img.reshape(-1, 3))\n",
    "# show_img_compar(img, palette(clt_1))\n",
    "clt = KMeans(n_clusters=3)\n",
    "#clt.fit(img)\n",
    "clt_1 = clt.fit(img.reshape(-1, 3))\n",
    "show_img_compar(img, palette_perc(clt_1))"
   ]
  },
  {
   "cell_type": "code",
   "execution_count": 43,
   "metadata": {},
   "outputs": [
    {
     "data": {
      "text/plain": [
       "(46, 42, 3)"
      ]
     },
     "execution_count": 43,
     "metadata": {},
     "output_type": "execute_result"
    }
   ],
   "source": [
    "img=cv.imread(r\"C:\\Users\\admin\\Desktop\\Capture.PNG\")\n",
    "img.shape"
   ]
  },
  {
   "cell_type": "code",
   "execution_count": 44,
   "metadata": {},
   "outputs": [
    {
     "data": {
      "text/plain": [
       "(2898, 2)"
      ]
     },
     "execution_count": 44,
     "metadata": {},
     "output_type": "execute_result"
    }
   ],
   "source": [
    "img=img.reshape(-1,2)\n",
    "img.shape"
   ]
  },
  {
   "cell_type": "code",
   "execution_count": 55,
   "metadata": {},
   "outputs": [
    {
     "data": {
      "text/plain": [
       "[1, 2, 3444, 3232343]"
      ]
     },
     "execution_count": 55,
     "metadata": {},
     "output_type": "execute_result"
    }
   ],
   "source": [
    "a=[3444,3232343,1,2]\n",
    "a.sort()\n",
    "a\n"
   ]
  },
  {
   "cell_type": "code",
   "execution_count": null,
   "metadata": {},
   "outputs": [],
   "source": []
  },
  {
   "cell_type": "code",
   "execution_count": null,
   "metadata": {},
   "outputs": [],
   "source": []
  }
 ],
 "metadata": {
  "kernelspec": {
   "display_name": "Python 3",
   "language": "python",
   "name": "python3"
  },
  "language_info": {
   "codemirror_mode": {
    "name": "ipython",
    "version": 3
   },
   "file_extension": ".py",
   "mimetype": "text/x-python",
   "name": "python",
   "nbconvert_exporter": "python",
   "pygments_lexer": "ipython3",
   "version": "3.8.5"
  }
 },
 "nbformat": 4,
 "nbformat_minor": 4
}
