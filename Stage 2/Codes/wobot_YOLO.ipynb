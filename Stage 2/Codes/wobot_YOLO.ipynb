{
 "cells": [
  {
   "cell_type": "code",
   "execution_count": 1,
   "metadata": {
    "id": "oJzFcy1xKoM5",
    "outputId": "1789574f-e897-45bc-d855-0797b2352c75"
   },
   "outputs": [
    {
     "name": "stdout",
     "output_type": "stream",
     "text": [
      "['helmet', 'head']\n"
     ]
    }
   ],
   "source": [
    "import cv2 as cv\n",
    "import numpy as np\n",
    "import pyttsx3\n",
    "from sklearn.cluster import KMeans\n",
    "from collections import Counter\n",
    "\n",
    " \n",
    "cap = cv.VideoCapture(r\"C:\\Users\\admin\\Downloads\\Top 10 Safety Vest For Construction For Men And Women.mp4\")\n",
    "whT = 320\n",
    "confThreshold =0.5\n",
    "nmsThreshold= 0.2\n",
    " \n",
    "#### LOAD MODEL\n",
    "## Coco Names\n",
    "classesFile = r\"C:\\Users\\admin\\Downloads\\wobot\\obj.names\"\n",
    "classNames = []\n",
    "with open(classesFile, 'rt') as f:\n",
    "    classNames = f.read().rstrip('\\n').split('\\n')\n",
    "print(classNames)\n",
    "## Model Files\n",
    "modelConfiguration = r\"C:\\Users\\admin\\Downloads\\wobot\\yolov4-tiny-custom.cfg\"\n",
    "modelWeights = r\"C:\\Users\\admin\\Downloads\\wobot\\yolov4-tiny-custom_best.weights\"\n",
    "net = cv.dnn.readNetFromDarknet(modelConfiguration, modelWeights)\n",
    "net.setPreferableBackend(cv.dnn.DNN_BACKEND_OPENCV)\n",
    "net.setPreferableTarget(cv.dnn.DNN_TARGET_CPU)\n",
    "\n",
    "\n",
    "clt = KMeans(n_clusters=3)\n",
    "def palette_perc(k_cluster):\n",
    "    width = 300\n",
    "    b=k_cluster.cluster_centers_[0]\n",
    "    return b\n",
    "\n",
    "def findObjects(outputs,img):\n",
    "    hT, wT, cT = img.shape\n",
    "    bbox = []\n",
    "    classIds = []\n",
    "    confs = []\n",
    "    for output in outputs:\n",
    "        for det in output:\n",
    "            scores = det[5:]\n",
    "            classId = np.argmax(scores)\n",
    "            confidence = scores[classId]\n",
    "            if confidence > confThreshold:\n",
    "                w,h = int(det[2]*wT) , int(det[3]*hT)\n",
    "                x,y = int((det[0]*wT)-w/2) , int((det[1]*hT)-h/2)\n",
    "                bbox.append([x,y,w,h])\n",
    "                classIds.append(classId)\n",
    "                confs.append(float(confidence))\n",
    "    \n",
    "    indices = cv.dnn.NMSBoxes(bbox, confs, confThreshold, nmsThreshold)\n",
    " \n",
    "    for i in indices:\n",
    "        i = i[0]\n",
    "        box = bbox[i]\n",
    "        x, y, w, h = box[0], box[1], box[2], box[3]\n",
    "        cv.putText(img,f'{classNames[classIds[i]].upper()} {int(confs[i]*100)}%',\n",
    "                  (x, y-10), cv.FONT_HERSHEY_SIMPLEX, 0.6, (255, 0, 255), 2)\n",
    "        a=classNames[classIds[i]].upper()\n",
    "        \n",
    "        if a==\"HELMET\":\n",
    "            im=img[y:y+h,x:x+w]\n",
    "            i=im.reshape(-1,3)\n",
    "            if i.shape!=(0,3):\n",
    "                clt_1 = clt.fit(im.reshape(-1, 3))\n",
    "                b=palette_perc(clt_1)\n",
    "                cv.rectangle(img, (x, y), (x+w,y+h), (b[0],b[1],b[2]), 2)\n",
    "        else:\n",
    "            cv.rectangle(img, (x, y), (x+w,y+h), (255, 0, 255), 2)\n",
    "\n",
    "\n",
    "            \n",
    "# frame_width = int(cap.get(3))\n",
    "# frame_height = int(cap.get(4))  \n",
    "# size = (frame_width, frame_height)\n",
    "# result = cv.VideoWriter('wobot.avi', \n",
    "#                          cv.VideoWriter_fourcc(*'MJPG'),\n",
    "#                          10, size)            \n",
    "            \n",
    "            \n",
    "while True:\n",
    "    success, img = cap.read()\n",
    "    blob = cv.dnn.blobFromImage(img, 1 / 255, (whT, whT), [0, 0, 0], 1, crop=False)\n",
    "    net.setInput(blob)\n",
    "    layersNames = net.getLayerNames()\n",
    "    outputNames = [(layersNames[i[0] - 1]) for i in net.getUnconnectedOutLayers()]\n",
    "    outputs = net.forward(outputNames)\n",
    "    findObjects(outputs,img)\n",
    "    cv.imshow('Image', img)\n",
    "    #result.write(img)\n",
    "    if cv.waitKey(10) & 0xFF == ord('q'):\n",
    "                    break\n",
    "cap.release()\n",
    "cv.destroyAllWindows()"
   ]
  },
  {
   "cell_type": "code",
   "execution_count": null,
   "metadata": {},
   "outputs": [],
   "source": []
  }
 ],
 "metadata": {
  "colab": {
   "name": "Final_YOLO_OD.ipynb",
   "provenance": []
  },
  "kernelspec": {
   "display_name": "Python 3",
   "language": "python",
   "name": "python3"
  },
  "language_info": {
   "codemirror_mode": {
    "name": "ipython",
    "version": 3
   },
   "file_extension": ".py",
   "mimetype": "text/x-python",
   "name": "python",
   "nbconvert_exporter": "python",
   "pygments_lexer": "ipython3",
   "version": "3.8.5"
  }
 },
 "nbformat": 4,
 "nbformat_minor": 1
}
